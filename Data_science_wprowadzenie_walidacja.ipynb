{
  "nbformat": 4,
  "nbformat_minor": 0,
  "metadata": {
    "colab": {
      "provenance": [],
      "authorship_tag": "ABX9TyMG27YWRWneSZs+zA9JuktE",
      "include_colab_link": true
    },
    "kernelspec": {
      "name": "python3",
      "display_name": "Python 3"
    },
    "language_info": {
      "name": "python"
    }
  },
  "cells": [
    {
      "cell_type": "markdown",
      "metadata": {
        "id": "view-in-github",
        "colab_type": "text"
      },
      "source": [
        "<a href=\"https://colab.research.google.com/github/MetalHeadv3/Wprowadzenie-do-Data-Science/blob/main/Data_science_wprowadzenie_walidacja.ipynb\" target=\"_parent\"><img src=\"https://colab.research.google.com/assets/colab-badge.svg\" alt=\"Open In Colab\"/></a>"
      ]
    },
    {
      "cell_type": "code",
      "execution_count": null,
      "metadata": {
        "colab": {
          "base_uri": "https://localhost:8080/"
        },
        "id": "Wzy2vX4JDe13",
        "outputId": "45c59159-5a73-4c5c-b7ef-b64212089a5f"
      },
      "outputs": [
        {
          "output_type": "stream",
          "name": "stdout",
          "text": [
            "Podaj tekst: Ala ma Kota, Kot ma Ale\n",
            "Słownik zliczonych słów: {'Ala': 1, 'ma': 2, 'Kota': 1, 'Kot': 1, 'Ale': 1}\n"
          ]
        }
      ],
      "source": [
        "import string\n",
        "\n",
        "tekst = input(\"Podaj tekst: \")\n",
        "\n",
        "\n",
        "for znak in string.punctuation:\n",
        "    tekst = tekst.replace(znak, \"\")\n",
        "\n",
        "\n",
        "slowa = tekst.split()\n",
        "\n",
        "\n",
        "slownik = {}\n",
        "for slowo in slowa:\n",
        "    if slowo in slownik:\n",
        "        slownik[slowo] += 1\n",
        "    else:\n",
        "        slownik[slowo] = 1\n",
        "\n",
        "print(\"Słownik zliczonych słów:\", slownik)\n"
      ]
    },
    {
      "cell_type": "code",
      "source": [
        "\n",
        "with open(\"slowa.txt\", \"w\", encoding=\"utf-8\") as f:\n",
        "    for slowo, liczba in slownik.items():\n",
        "        f.write(f\"{slowo}, {liczba}\\n\")\n"
      ],
      "metadata": {
        "id": "vN_k4scbDovt"
      },
      "execution_count": null,
      "outputs": []
    },
    {
      "cell_type": "code",
      "source": [
        "def wypisz_ze_spacjami(n: int):\n",
        "    for i in range(1, n + 1):\n",
        "        print(\" \" * (i - 1) + str(i))\n",
        "\n",
        "wypisz_ze_spacjami(5)\n"
      ],
      "metadata": {
        "colab": {
          "base_uri": "https://localhost:8080/"
        },
        "id": "LKodK3-PDso5",
        "outputId": "f98f58fd-1bb5-4dbb-e206-caf773bd5a06"
      },
      "execution_count": null,
      "outputs": [
        {
          "output_type": "stream",
          "name": "stdout",
          "text": [
            "1\n",
            " 2\n",
            "  3\n",
            "   4\n",
            "    5\n"
          ]
        }
      ]
    }
  ]
}